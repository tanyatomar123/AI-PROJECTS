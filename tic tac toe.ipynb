{
 "cells": [
  {
   "cell_type": "code",
   "execution_count": 9,
   "id": "32937c5c-da62-40b4-b6a1-9a360926da62",
   "metadata": {},
   "outputs": [
    {
     "name": "stdout",
     "output_type": "stream",
     "text": [
      "|   |   |   |\n",
      "-------------\n",
      "|   |   |   |\n",
      "-------------\n",
      "|   |   |   |\n",
      "-------------\n"
     ]
    },
    {
     "name": "stdin",
     "output_type": "stream",
     "text": [
      "Enter row (0, 1, 2):  3\n",
      "Enter column (0, 1, 2):  1\n"
     ]
    },
    {
     "name": "stdout",
     "output_type": "stream",
     "text": [
      "Row and column should be in range 0-2.\n"
     ]
    },
    {
     "name": "stdin",
     "output_type": "stream",
     "text": [
      "Enter row (0, 1, 2):  2\n",
      "Enter column (0, 1, 2):  1\n"
     ]
    },
    {
     "name": "stdout",
     "output_type": "stream",
     "text": [
      "|   |   |   |\n",
      "-------------\n",
      "|   |   |   |\n",
      "-------------\n",
      "|   | X |   |\n",
      "-------------\n",
      "Computer plays O at row 0, column 1\n",
      "|   | O |   |\n",
      "-------------\n",
      "|   |   |   |\n",
      "-------------\n",
      "|   | X |   |\n",
      "-------------\n"
     ]
    },
    {
     "name": "stdin",
     "output_type": "stream",
     "text": [
      "Enter row (0, 1, 2):  1\n",
      "Enter column (0, 1, 2):  2\n"
     ]
    },
    {
     "name": "stdout",
     "output_type": "stream",
     "text": [
      "|   | O |   |\n",
      "-------------\n",
      "|   |   | X |\n",
      "-------------\n",
      "|   | X |   |\n",
      "-------------\n",
      "Computer plays O at row 2, column 0\n",
      "|   | O |   |\n",
      "-------------\n",
      "|   |   | X |\n",
      "-------------\n",
      "| O | X |   |\n",
      "-------------\n"
     ]
    },
    {
     "name": "stdin",
     "output_type": "stream",
     "text": [
      "Enter row (0, 1, 2):  2\n",
      "Enter column (0, 1, 2):  1\n"
     ]
    },
    {
     "name": "stdout",
     "output_type": "stream",
     "text": [
      "That spot is already taken!\n"
     ]
    },
    {
     "name": "stdin",
     "output_type": "stream",
     "text": [
      "Enter row (0, 1, 2):  0\n",
      "Enter column (0, 1, 2):  1\n"
     ]
    },
    {
     "name": "stdout",
     "output_type": "stream",
     "text": [
      "That spot is already taken!\n"
     ]
    },
    {
     "name": "stdin",
     "output_type": "stream",
     "text": [
      "Enter row (0, 1, 2):  2\n",
      "Enter column (0, 1, 2):  1\n"
     ]
    },
    {
     "name": "stdout",
     "output_type": "stream",
     "text": [
      "That spot is already taken!\n"
     ]
    },
    {
     "name": "stdin",
     "output_type": "stream",
     "text": [
      "Enter row (0, 1, 2):  3\n",
      "Enter column (0, 1, 2):  2\n"
     ]
    },
    {
     "name": "stdout",
     "output_type": "stream",
     "text": [
      "Row and column should be in range 0-2.\n"
     ]
    },
    {
     "name": "stdin",
     "output_type": "stream",
     "text": [
      "Enter row (0, 1, 2):  2\n",
      "Enter column (0, 1, 2):  1\n"
     ]
    },
    {
     "name": "stdout",
     "output_type": "stream",
     "text": [
      "That spot is already taken!\n"
     ]
    },
    {
     "name": "stdin",
     "output_type": "stream",
     "text": [
      "Enter row (0, 1, 2):  0\n",
      "Enter column (0, 1, 2):  2\n"
     ]
    },
    {
     "name": "stdout",
     "output_type": "stream",
     "text": [
      "|   | O | X |\n",
      "-------------\n",
      "|   |   | X |\n",
      "-------------\n",
      "| O | X |   |\n",
      "-------------\n",
      "Computer plays O at row 2, column 2\n",
      "|   | O | X |\n",
      "-------------\n",
      "|   |   | X |\n",
      "-------------\n",
      "| O | X | O |\n",
      "-------------\n"
     ]
    },
    {
     "name": "stdin",
     "output_type": "stream",
     "text": [
      "Enter row (0, 1, 2):  0\n",
      "Enter column (0, 1, 2):  1\n"
     ]
    },
    {
     "name": "stdout",
     "output_type": "stream",
     "text": [
      "That spot is already taken!\n"
     ]
    },
    {
     "name": "stdin",
     "output_type": "stream",
     "text": [
      "Enter row (0, 1, 2):  0\n",
      "Enter column (0, 1, 2):  0\n"
     ]
    },
    {
     "name": "stdout",
     "output_type": "stream",
     "text": [
      "| X | O | X |\n",
      "-------------\n",
      "|   |   | X |\n",
      "-------------\n",
      "| O | X | O |\n",
      "-------------\n",
      "Computer plays O at row 1, column 0\n",
      "| X | O | X |\n",
      "-------------\n",
      "| O |   | X |\n",
      "-------------\n",
      "| O | X | O |\n",
      "-------------\n"
     ]
    },
    {
     "name": "stdin",
     "output_type": "stream",
     "text": [
      "Enter row (0, 1, 2):  2\n",
      "Enter column (0, 1, 2):  2\n"
     ]
    },
    {
     "name": "stdout",
     "output_type": "stream",
     "text": [
      "That spot is already taken!\n"
     ]
    },
    {
     "name": "stdin",
     "output_type": "stream",
     "text": [
      "Enter row (0, 1, 2):  2\n",
      "Enter column (0, 1, 2):  1\n"
     ]
    },
    {
     "name": "stdout",
     "output_type": "stream",
     "text": [
      "That spot is already taken!\n"
     ]
    },
    {
     "name": "stdin",
     "output_type": "stream",
     "text": [
      "Enter row (0, 1, 2):  1\n",
      "Enter column (0, 1, 2):  1\n"
     ]
    },
    {
     "name": "stdout",
     "output_type": "stream",
     "text": [
      "| X | O | X |\n",
      "-------------\n",
      "| O | X | X |\n",
      "-------------\n",
      "| O | X | O |\n",
      "-------------\n",
      "It's a tie!\n"
     ]
    }
   ],
   "source": [
    "import random\n",
    "\n",
    "\n",
    "def initialize_board():\n",
    "    return [[' ' for _ in range(3)] for _ in range(3)]\n",
    "\n",
    "def display_board(board):\n",
    "    for row in board:\n",
    "        print('| ' + ' | '.join(row) + ' |')\n",
    "        print('-------------')\n",
    "\n",
    "def check_win(board, player):\n",
    "    for i in range(3):\n",
    "        if all(board[i][j] == player for j in range(3)) or \\\n",
    "           all(board[j][i] == player for j in range(3)):\n",
    "            return True\n",
    "    if all(board[i][i] == player for i in range(3)) or \\\n",
    "       all(board[i][2-i] == player for i in range(3)):\n",
    "        return True\n",
    "    return False\n",
    "\n",
    "def board_full(board):\n",
    "    return all(board[i][j] != ' ' for i in range(3) for j in range(3))\n",
    "\n",
    "def evaluate(board):\n",
    "    if check_win(board, 'O'):\n",
    "        return 1\n",
    "    elif check_win(board, 'X'):\n",
    "        return -1\n",
    "    else:\n",
    "        return 0\n",
    "\n",
    "def minimax(board, depth, alpha, beta, is_maximizing):\n",
    "    if check_win(board, 'O'):\n",
    "        return 1\n",
    "    elif check_win(board, 'X'):\n",
    "        return -1\n",
    "    elif board_full(board):\n",
    "        return 0\n",
    "    \n",
    "    if is_maximizing:\n",
    "        max_eval = -float('inf')\n",
    "        for i in range(3):\n",
    "            for j in range(3):\n",
    "                if board[i][j] == ' ':\n",
    "                    board[i][j] = 'O'\n",
    "                    eval = minimax(board, depth + 1, alpha, beta, False)\n",
    "                    board[i][j] = ' '\n",
    "                    max_eval = max(max_eval, eval)\n",
    "                    alpha = max(alpha, eval)\n",
    "                    if beta <= alpha:\n",
    "                        break\n",
    "        return max_eval\n",
    "    else:\n",
    "        min_eval = float('inf')\n",
    "        for i in range(3):\n",
    "            for j in range(3):\n",
    "                if board[i][j] == ' ':\n",
    "                    board[i][j] = 'X'\n",
    "                    eval = minimax(board, depth + 1, alpha, beta, True)\n",
    "                    board[i][j] = ' '\n",
    "                    min_eval = min(min_eval, eval)\n",
    "                    beta = min(beta, eval)\n",
    "                    if beta <= alpha:\n",
    "                        break\n",
    "        return min_eval\n",
    "\n",
    "def get_best_move(board):\n",
    "    best_eval = -float('inf')\n",
    "    best_move = None\n",
    "    for i in range(3):\n",
    "        for j in range(3):\n",
    "            if board[i][j] == ' ':\n",
    "                board[i][j] = 'O'\n",
    "                eval = minimax(board, 0, -float('inf'), float('inf'), False)\n",
    "                board[i][j] = ' '\n",
    "                if eval > best_eval:\n",
    "                    best_eval = eval\n",
    "                    best_move = (i, j)\n",
    "    return best_move\n",
    "def play_game():\n",
    "    board = initialize_board()\n",
    "    current_player = 'X'  \n",
    "    while True:\n",
    "        display_board(board)\n",
    "        if current_player == 'X':\n",
    "            while True:\n",
    "                try:\n",
    "                    row = int(input('Enter row (0, 1, 2): '))\n",
    "                    col = int(input('Enter column (0, 1, 2): '))\n",
    "                    if board[row][col] == ' ':\n",
    "                        board[row][col] = 'X'\n",
    "                        break\n",
    "                    else:\n",
    "                        print('That spot is already taken!')\n",
    "                except ValueError:\n",
    "                    print('Invalid input.  enter a number.')\n",
    "                except IndexError:\n",
    "                    print('Row and column should be in range 0-2.')\n",
    "        else:\n",
    "            row, col = get_best_move(board)\n",
    "            board[row][col] = 'O'\n",
    "            print(f'Computer plays O at row {row}, column {col}')\n",
    "        \n",
    "        if check_win(board, current_player):\n",
    "            display_board(board)\n",
    "            if current_player == 'X':\n",
    "                print('Congratulations! You won!')\n",
    "            else:\n",
    "                print('Computer wins!')\n",
    "            break\n",
    "        elif board_full(board):\n",
    "            display_board(board)\n",
    "            print('It\\'s a tie!')\n",
    "            break\n",
    "        \n",
    "        current_player = 'O' if current_player == 'X' else 'X'\n",
    "\n",
    "if __name__ == '__main__':\n",
    "    play_game()\n",
    "\n"
   ]
  },
  {
   "cell_type": "code",
   "execution_count": null,
   "id": "1f82ed65-cf99-4ef8-ab18-da78ffa51238",
   "metadata": {},
   "outputs": [],
   "source": []
  }
 ],
 "metadata": {
  "kernelspec": {
   "display_name": "Python 3 (ipykernel)",
   "language": "python",
   "name": "python3"
  },
  "language_info": {
   "codemirror_mode": {
    "name": "ipython",
    "version": 3
   },
   "file_extension": ".py",
   "mimetype": "text/x-python",
   "name": "python",
   "nbconvert_exporter": "python",
   "pygments_lexer": "ipython3",
   "version": "3.12.4"
  }
 },
 "nbformat": 4,
 "nbformat_minor": 5
}
